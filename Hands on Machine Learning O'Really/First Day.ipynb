{
 "cells": [
  {
   "cell_type": "markdown",
   "metadata": {},
   "source": [
    "There are so many different types of Machine Learning systems that it is useful to classify them in broad categories based on:\n",
    "\n",
    "• Whether or not they are trained with human supervision (supervised, unsupervised, semisupervised, and Reinforcement Learning)\n",
    "\n",
    "• Whether or not they can learn incrementally on the fly (online versus batch learning)\n",
    "\n",
    "• Whether they work by simply comparing new data points to known data points,or instead detect patterns in the training data and build a predictive model, much like scientists do (instance-based versus model-based learning)"
   ]
  },
  {
   "cell_type": "markdown",
   "metadata": {},
   "source": [
    "# Supervisdes learning: \n",
    " * In supervised learning, the training data you feed to the algorithm includes the desired solutions, called labels\n",
    "  * Examples : Regressions and classifications\n",
    "    * k-Nearest Neighbors\n",
    "    * Linear Regression\n",
    "    * Logistic Regression\n",
    "    * Support Vector Machines (SVMs)\n",
    "    * Decision Trees and Random Forests\n",
    "    * Neural networks\n"
   ]
  },
  {
   "cell_type": "markdown",
   "metadata": {},
   "source": [
    "# Unsupervised learning\n",
    "* In unsupervised learning, as you might guess, the training data is unlabeled The system tries to learn without a teacher.\n",
    "* Clustering\n",
    "  *  K-Means\n",
    "* DBSCAN\n",
    "* Hierarchical Cluster Analysis (HCA)\n",
    "  *  Anomaly detection and novelty detection\n",
    "* One-class SVM\n",
    "* Isolation Forest\n",
    "* Visualization and dimensionality reduction\n",
    "  * Principal Component Analysis (PCA)\n",
    "  * Kernel PCA\n",
    "  *   Locally-Linear Embedding (LLE)\n",
    "  *   t-distributed Stochastic Neighbor Embedding (t-SNE)\n",
    "* Association rule learning\n",
    "  *   Apriori\n",
    "  *   Eclat"
   ]
  },
  {
   "cell_type": "markdown",
   "metadata": {},
   "source": []
  }
 ],
 "metadata": {
  "language_info": {
   "name": "python"
  },
  "orig_nbformat": 4
 },
 "nbformat": 4,
 "nbformat_minor": 2
}

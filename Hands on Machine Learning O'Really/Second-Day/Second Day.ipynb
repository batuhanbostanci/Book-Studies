{
 "cells": [
  {
   "cell_type": "markdown",
   "metadata": {},
   "source": [
    "# Instance-Based Versus Model-Based Learning\n",
    "\n",
    "* Instance-Based\n",
    "  * Possibly the most trivial form of learning is simply to learn by heart. If you were to\n",
    "create a spam filter this way, it would just flag all emails that are identical to emails\n",
    "that have already been flagged by users—not the worst solution, but certainly not the\n",
    "best.\n",
    "Instead of just flagging emails that are identical to known spam emails, your spam\n",
    "filter could be programmed to also flag emails that are very similar to known spam\n",
    "emails. This requires a measure of similarity between two emails. A (very basic) similarity\n",
    "measure between two emails could be to count the number of words they have\n",
    "in common. The system would flag an email as spam if it has many words in common\n",
    "with a known spam email.\n",
    "This is called instance-based learning: the system learns the examples by heart, then\n",
    "generalizes to new cases by comparing them to the learned examples (or a subset of\n",
    "them), using a similarity measure. For example, in Figure 1-15 the new instance\n",
    "would be classified as a triangle because the majority of the most similar instances\n",
    "belong to that class."
   ]
  },
  {
   "cell_type": "markdown",
   "metadata": {},
   "source": [
    "* Popular open data repositories:\n",
    "    * UC Irvine Machine Learning Repository\n",
    "    * Kaggle datasets\n",
    "    * Amazon’s AWS datasets\n",
    "* Meta portals (they list open data repositories):\n",
    "    * http://dataportals.org/\n",
    "    * http://opendatamonitor.eu/\n",
    "    * http://quandl.com/\n",
    "* Other pages listing many popular open data repositories:\n",
    "    * Wikipedia’s list of Machine Learning datasets\n",
    "    * Quora.com question\n",
    "    * Datasets subreddit"
   ]
  },
  {
   "cell_type": "markdown",
   "metadata": {},
   "source": []
  }
 ],
 "metadata": {
  "kernelspec": {
   "display_name": "Python 3.10.6 64-bit",
   "language": "python",
   "name": "python3"
  },
  "language_info": {
   "name": "python",
   "version": "3.10.6"
  },
  "orig_nbformat": 4,
  "vscode": {
   "interpreter": {
    "hash": "5ce2cf645b2717364d5fdeea80bcf957640a343b4fc8e70b8100356c7e62d959"
   }
  }
 },
 "nbformat": 4,
 "nbformat_minor": 2
}
